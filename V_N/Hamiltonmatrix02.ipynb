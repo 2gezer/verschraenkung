{
 "cells": [
  {
   "cell_type": "markdown",
   "metadata": {
    "deletable": true,
    "editable": true
   },
   "source": [
    "Im Folgenden erstelle ich eine Hamiltonmatrix nach dem Hubbardmodell mit einem Gitterplatz (siehe Comp.M.B.Phys. Script S.8&9)"
   ]
  },
  {
   "cell_type": "code",
   "execution_count": 39,
   "metadata": {
    "collapsed": false,
    "deletable": true,
    "editable": true
   },
   "outputs": [
    {
     "data": {
      "text/plain": [
       "4×4 Array{Int64,2}:\n",
       " 0  0  1  0\n",
       " 0  0  0  1\n",
       " 0  0  0  0\n",
       " 0  0  0  0"
      ]
     },
     "execution_count": 39,
     "metadata": {},
     "output_type": "execute_result"
    }
   ],
   "source": [
    "\n",
    "#definieren der Zustände empty, up, down, full:\n",
    "e=[1,0,0,0] # =|0>\n",
    "u=[0,1,0,0] # =|up>\n",
    "d=[0,0,1,0] # =|down>\n",
    "f=[0,0,0,1] # =|up down> = |full>\n",
    "\n",
    "Pu=[0 0 0 0; 1 0 0 0; 0 0 0 0; 0 0 1 0] #erzeuge Spin up\n",
    "Pd=[0 0 0 0; 0 0 0 0; 1 0 0 0; 0 1 0 0] #erzeuge Spin down\n",
    "Mu=[0 1 0 0; 0 0 0 0; 0 0 0 1; 0 0 0 0] #vernichte Spin up\n",
    "Md=[0 0 1 0; 0 0 0 1; 0 0 0 0; 0 0 0 0] #vernichte Spin down\n",
    "\n"
   ]
  },
  {
   "cell_type": "code",
   "execution_count": 3,
   "metadata": {
    "collapsed": false,
    "deletable": true,
    "editable": true
   },
   "outputs": [
    {
     "name": "stdout",
     "output_type": "stream",
     "text": [
      "das ist 11\n",
      "das ist 22\n",
      "das ist 33\n",
      "das ist 44\n"
     ]
    }
   ],
   "source": [
    "for i in 1:4\n",
    "    println(\"das ist $i\",i)\n",
    "end"
   ]
  },
  {
   "cell_type": "code",
   "execution_count": 53,
   "metadata": {
    "collapsed": false,
    "deletable": true,
    "editable": true
   },
   "outputs": [
    {
     "name": "stderr",
     "output_type": "stream",
     "text": [
      "WARNING: Method definition Ham"
     ]
    },
    {
     "data": {
      "text/plain": [
       "Ham (generic function with 1 method)"
      ]
     },
     "execution_count": 53,
     "metadata": {},
     "output_type": "execute_result"
    },
    {
     "name": "stderr",
     "output_type": "stream",
     "text": [
      "(Any, Any, Any) in module Main at In[52]:48 overwritten at In[53]:48.\n"
     ]
    }
   ],
   "source": [
    "#erstelle nun die Hamiltonmatrix H = Eu*Tu + Ed*Td + U*V\n",
    "Tu = zeros(4,4)\n",
    "for i in 1:4\n",
    "    for j in 1:4\n",
    "        for k in 1:4\n",
    "        Tu[i,j]=Tu[i,j]+Pu[i,k]*Mu[k,j]\n",
    "        end\n",
    "    end\n",
    "end\n",
    "\n",
    "\n",
    "Td = zeros(4,4)\n",
    "for i in 1:4\n",
    "    for j in 1:4\n",
    "        for k in 1:4\n",
    "        Td[i,j]=Td[i,j]+Pd[i,k]*Md[k,j]\n",
    "        end\n",
    "    end\n",
    "end\n",
    "\n",
    "V1 = zeros(4,4)\n",
    "for i in 1:4\n",
    "    for j in 1:4\n",
    "        for k in 1:4\n",
    "        V1[i,j]=V1[i,j]+Pd[i,k]*Md[k,j]\n",
    "        end\n",
    "    end\n",
    "end\n",
    "V2 = zeros(4,4)\n",
    "for i in 1:4\n",
    "    for j in 1:4\n",
    "        for k in 1:4\n",
    "       V2[i,j]=V2[i,j]+Mu[i,k]*V1[k,j]\n",
    "        end\n",
    "    end\n",
    "end\n",
    "V3= zeros(4,4)\n",
    "for i in 1:4\n",
    "    for j in 1:4\n",
    "        for k in 1:4\n",
    "       V3[i,j]=V3[i,j]+Pu[i,k]*V2[k,j]\n",
    "        end\n",
    "    end\n",
    "end\n",
    "V = V3\n",
    "\n",
    "function Ham(Eu,Ed,U)\n",
    "    Ham = Eu*Tu + Ed*Td +U*V\n",
    "end\n",
    "\n",
    "\n"
   ]
  }
 ],
 "metadata": {
  "kernelspec": {
   "display_name": "Julia 0.5.0",
   "language": "julia",
   "name": "julia-0.5"
  },
  "language_info": {
   "file_extension": ".jl",
   "mimetype": "application/julia",
   "name": "julia",
   "version": "0.5.1"
  }
 },
 "nbformat": 4,
 "nbformat_minor": 2
}
