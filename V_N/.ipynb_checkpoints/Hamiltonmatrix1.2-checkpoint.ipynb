{
 "cells": [
  {
   "cell_type": "raw",
   "metadata": {
    "deletable": true,
    "editable": true
   },
   "source": [
    "OHNE VORZEICHEN"
   ]
  },
  {
   "cell_type": "code",
   "execution_count": 23,
   "metadata": {
    "collapsed": false,
    "deletable": true,
    "editable": true,
    "scrolled": true
   },
   "outputs": [
    {
     "data": {
      "text/plain": [
       "16×16 Array{Float64,2}:\n",
       " 0.0  0.0  0.0   0.0  0.0   0.0   0.0  …   0.0   0.0   0.0   0.0   0.0   0.0\n",
       " 0.0  0.0  0.0   0.0  0.0   0.0   0.0      0.0   0.0   0.0   0.0   0.0   0.0\n",
       " 0.0  0.0  9.0   0.0  0.0   0.0   0.0      0.0   0.0   0.0   0.0   0.0   0.0\n",
       " 0.0  0.0  0.0  18.0  0.0   0.0   0.0      0.0   0.0   0.0   0.0   0.0   0.0\n",
       " 0.0  0.0  0.0   0.0  9.0   0.0   0.0      0.0   0.0   0.0   0.0   0.0   0.0\n",
       " 0.0  0.0  0.0   0.0  0.0  18.0   0.0  …   0.0   0.0   0.0   0.0   0.0   0.0\n",
       " 0.0  0.0  0.0   0.0  0.0   0.0  18.0      0.0   0.0   0.0   0.0   0.0   0.0\n",
       " 0.0  0.0  0.0   0.0  0.0   0.0   0.0      0.0   0.0   0.0   0.0   0.0   0.0\n",
       " 0.0  0.0  0.0   0.0  0.0   0.0   0.0      0.0   0.0   0.0   0.0   0.0   0.0\n",
       " 0.0  0.0  0.0   0.0  0.0   0.0   0.0      0.0   0.0   0.0   0.0   0.0   0.0\n",
       " 0.0  0.0  0.0   0.0  0.0   0.0   0.0  …  18.0   0.0   0.0   0.0   0.0   0.0\n",
       " 0.0  0.0  0.0   0.0  0.0   0.0   0.0      0.0  27.0   0.0   0.0   0.0   0.0\n",
       " 0.0  0.0  0.0   0.0  0.0   0.0   0.0      0.0   0.0  18.0   0.0   0.0   0.0\n",
       " 0.0  0.0  0.0   0.0  0.0   0.0   0.0      0.0   0.0   0.0  27.0   0.0   0.0\n",
       " 0.0  0.0  0.0   0.0  0.0   0.0   0.0      0.0   0.0   0.0   0.0  27.0   0.0\n",
       " 0.0  0.0  0.0   0.0  0.0   0.0   0.0  …   0.0   0.0   0.0   0.0   0.0  36.0"
      ]
     },
     "execution_count": 23,
     "metadata": {},
     "output_type": "execute_result"
    }
   ],
   "source": [
    "workspace() #hierdurch werden Warnungen und Fehlermeldungen behoben. wieso genau weiß ich nicht.\n",
    "\n",
    "type state #der Typ state soll einen Zustand beschreiben\n",
    "    j::Int64 #Zahl des Zustands\n",
    "    n::Int64 #Anzahl der Gitterplätze\n",
    "end\n",
    "\n",
    "function getStateArray(zustand::state) #diese Funktion empfängt einen Zustand vom Typ state. Für diesen Zustand ermittelt \n",
    "    a=zeros(Int64, 2*zustand.n) #sie das zugehörige Array mit den Besetzungszahlen\n",
    "    number = zustand.j\n",
    "    counter=1\n",
    "    while number > 0\n",
    "        a[counter]=number%2\n",
    "        number= number%2 == 1 ? Int64(number/2 - 0.5) : number/2\n",
    "        counter=counter+1\n",
    "    end\n",
    "    return a\n",
    "end\n",
    "\n",
    "function CreateSpin(i,s,zustand) #i ist der Gitterplatz, s ist der Spin, mit Wert 2 für up und 1 für down\n",
    "   if isa(zustand,Int64) true\n",
    "        return 0\n",
    "    else\n",
    "   number=zustand.j\n",
    "   occupationnumber= getStateArray(zustand)[2i-s+1]\n",
    "   newnumber = number + 2^(2*i-s)\n",
    "   newfactor = 1-occupationnumber\n",
    "   b= newfactor == 0 ? 0:  newstate= state(newnumber,zustand.n)\n",
    "    end\n",
    "   return b\n",
    "end\n",
    "\n",
    "function AnnihilateSpin(i,s,zustand) #i ist der Gitterplatz, s ist der Spin, mit Wert 2 für up und 1 für down\n",
    "    if isa(zustand,Int64) true\n",
    "        return 0\n",
    "    else\n",
    "    number=zustand.j\n",
    "    occupationnumber= getStateArray(zustand)[2i-s+1]\n",
    "   newnumber = number - 2^(2*i-s)\n",
    "   newfactor = occupationnumber\n",
    "    if newfactor == 0\n",
    "       b=0\n",
    "        else\n",
    "        b=newstate= state(newnumber,zustand.n)\n",
    "    end\n",
    "    end\n",
    "   return b\n",
    "end\n",
    "\n",
    "#Hier ist die Funktion um eine Hamiltonmatrix zu erstellen, für n Gitterplätze mit Interaktion\n",
    "function Ham(E,n) #E ist der Energieterm. U ist das \"Hubbard U\".\n",
    "    H=zeros(4^n,4^n) #leere Hamiltonmatrix der entsprechenden Dimension\n",
    "for v in 0:4^n-1\n",
    "        y=state(v,n)\n",
    "    for i in 1:n \n",
    "        for s in 1:2  #erster Summenterm mit E\n",
    "            x=CreateSpin(i,s,AnnihilateSpin(i,s,y))\n",
    "            if x==0\n",
    "                for k in 1:4^n\n",
    "                H[i,k]=+ 0\n",
    "                end\n",
    "            elseif isa(x,state) true\n",
    "                H[(x.j)+1,(y.j)+1]+= E\n",
    "            end\n",
    "        end\n",
    "    \n",
    "    end\n",
    "end\n",
    "return H\n",
    "end\n",
    "\n",
    "Ham(9,2)\n",
    "\n"
   ]
  },
  {
   "cell_type": "code",
   "execution_count": 17,
   "metadata": {
    "collapsed": false,
    "deletable": true,
    "editable": true
   },
   "outputs": [
    {
     "data": {
      "text/plain": [
       "2"
      ]
     },
     "execution_count": 17,
     "metadata": {},
     "output_type": "execute_result"
    }
   ],
   "source": [
    "y=state(1,2)\n",
    "x=CreateSpin(1,2,AnnihilateSpin(1,2,y))\n",
    "x.j +1"
   ]
  }
 ],
 "metadata": {
  "kernelspec": {
   "display_name": "Julia 0.5.0",
   "language": "julia",
   "name": "julia-0.5"
  },
  "language_info": {
   "file_extension": ".jl",
   "mimetype": "application/julia",
   "name": "julia",
   "version": "0.5.1"
  }
 },
 "nbformat": 4,
 "nbformat_minor": 1
}
