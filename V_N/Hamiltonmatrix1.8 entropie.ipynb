{
 "cells": [
  {
   "cell_type": "raw",
   "metadata": {
    "deletable": true,
    "editable": true
   },
   "source": [
    "Im folgenden wird ein Code angegeben, um eine Hamiltonmatrix für ein vorgegebenes Modell eines fermionischen Systems zu ermitteln."
   ]
  },
  {
   "cell_type": "code",
   "execution_count": 2,
   "metadata": {
    "collapsed": false,
    "deletable": true,
    "editable": true
   },
   "outputs": [
    {
     "data": {
      "text/plain": [
       "Entropy (generic function with 1 method)"
      ]
     },
     "execution_count": 2,
     "metadata": {},
     "output_type": "execute_result"
    }
   ],
   "source": [
    "workspace() #hierdurch werden Warnungen und Fehlermeldungen behoben. wieso genau weiß ich nicht.\n",
    "\n",
    "type state #der Typ state soll einen Zustand beschreiben\n",
    "    j::Int64 #(Binär-)Zahl des Zustands\n",
    "    n::Int64 #Anzahl der Gitterplätze\n",
    "    f::Int64 #Faktor. Ist generell ersteinmal 1. Wird eventuell zu -1 verändert, wenn ein Operator auf den Zustand wirkt.\n",
    "end\n",
    "\n",
    "function getStateArray(zustand::state) #diese Funktion empfängt einen Zustand vom Typ state. Für diesen Zustand ermittelt \n",
    "    a=zeros(Int64, 2*zustand.n) #sie das zugehörige Array mit den Besetzungszahlen\n",
    "    number = zustand.j\n",
    "    counter=1\n",
    "    while number > 0\n",
    "        a[counter]=number%2\n",
    "        number= number%2 == 1 ? Int64(number/2 - 0.5) : number/2\n",
    "        counter=counter+1\n",
    "    end\n",
    "    return a\n",
    "end\n",
    "\n",
    "\n",
    "#Die Funktion CreateSpin wirkt auf ein Objekt vom Typ state so wie der Erzeugeroperator auf einen Zustand.\n",
    "function CreateSpin(i,s,zustand) #i ist der Gitterplatz, s ist der Spin, mit Wert 2 für up und 1 für down\n",
    "   if isa(zustand,Int64) true\n",
    "        b=0\n",
    "    else\n",
    "   number=zustand.j\n",
    "   occupationnumber= getStateArray(zustand)[2i-s+1]\n",
    "   newnumber = number + 2^(2*i-s)\n",
    "    a=0\n",
    "    for j in 1:2i-s\n",
    "            a+= getStateArray(zustand)[j]\n",
    "    end\n",
    "   newfactor = (1-occupationnumber)*zustand.f*(-1)^a\n",
    "   b= newfactor == 0 ? 0:  newstate= state(newnumber,zustand.n,newfactor)\n",
    "    end\n",
    "return b\n",
    "end\n",
    "\n",
    "#Die Funktion AnnihilateSpin wirkt auf ein Objekt vom Typ state so wie der Vernichteroperator auf einen Zustand.\n",
    "function AnnihilateSpin(i,s,zustand) #i ist der Gitterplatz, s ist der Spin, mit Wert 2 für up und 1 für down\n",
    "    if isa(zustand,Int64) true\n",
    "      b=0\n",
    "    else\n",
    "     number=zustand.j\n",
    "     occupationnumber= getStateArray(zustand)[2i-s+1] \n",
    "     a=0\n",
    "      for j in 1:2i-s\n",
    "            a+= getStateArray(zustand)[j]\n",
    "      end\n",
    "     newfactor = occupationnumber*zustand.f*(-1)^a\n",
    "     newnumber = number - 2^(2*i-s)\n",
    "     b= newfactor == 0 ? 0:  newstate= state(newnumber,zustand.n,newfactor)\n",
    "    end\n",
    "   return b\n",
    "end\n",
    "\n",
    "#Wichtig: Die Operatoren wirken, egal in welcher Zusammensetzung untereinander, nur so, dass ein Zustand entweder Null wird oder zu einem anderen Zustand vom Typ state. Wichtig ist, dass zu keinem Zeitpunkt eine Linearkombination aus zwei Zuständen entsteht. Ansonsten funktioniert mein Programm so nicht mehr.\n",
    "#Hier ist die Funktion um eine Hamiltonmatrix zu erstellen, für n Gitterplätze mit Interaktion\n",
    "function Ham(E,U,t,n) #E ist der Energieterm. U ist das \"Hubbard U\".\n",
    "    H=zeros(4^n,4^n) #leere Hamiltonmatrix der entsprechenden Dimension\n",
    "for j in 0:4^n-1\n",
    "        y=state(j,n,1) #y sind die Zustände, auf die der Hamiltonoperator vorerst wirkt\n",
    "    for i in 1:n \n",
    "            \n",
    "        for s in 1:2  #erster Summenterm mit E\n",
    "            x=CreateSpin(i,s,AnnihilateSpin(i,s,y)) #x sind die Zustände, die entstehen, nachdem der erste Teil des Hamiltonoperators auf die Zustände y angewendet wurde\n",
    "            if x==0 \n",
    "                for k in 1:4^n #wenn der gesamte Zustand 0 wird, so ist gesamte i-te Spalte 0. Im Prinizp ist dieser Schritt nicht nötig, da H bereits eine Nullmatrix ist. \n",
    "                H[i,k]+= 0\n",
    "                end\n",
    "            elseif isa(x,state) true\n",
    "                H[(x.j)+1,(y.j)+1]+= E*x.f#Für jeden neu erzeugten Zustand x findet sich ein Matrixelement H[x,y]mit entsprechendem Element E und Faktor x.f, welche 1 oder -1 sein kann.\n",
    "            end\n",
    "        end\n",
    "            \n",
    "            #zweiter Summenterm mit U\n",
    "        x=CreateSpin(i,2,AnnihilateSpin(i,2,CreateSpin(i,1,AnnihilateSpin(i,1,y))))  \n",
    "            if x==0\n",
    "                for k in 1:4^n\n",
    "                H[i,k]+= 0\n",
    "                end\n",
    "            elseif isa(x,state) true\n",
    "                H[(x.j)+1,(y.j)+1]+= U*x.f \n",
    "         end\n",
    "   end\n",
    "            #dritter Summenterm mit t\n",
    "           for s in 1:2\n",
    "            i=1\n",
    "            while i+1<=n\n",
    "                x=CreateSpin(i,s,AnnihilateSpin(i+1,s,y)) #ich teile den Operator ein um einmal i, i+1 und einmal k+1,k zu haben.\n",
    "                 if isa(x,state) true\n",
    "                 H[(x.j)+1,(y.j)+1]+= t*x.f \n",
    "                 end\n",
    "              i+=1  \n",
    "            end\n",
    "                    k=1\n",
    "            while k+1<=n\n",
    "                x=CreateSpin(k+1,s,AnnihilateSpin(k,s,y))\n",
    "                 if isa(x,state) true\n",
    "                 H[(x.j)+1,(y.j)+1]+= t*x.f\n",
    "                 end\n",
    "              k+=1  \n",
    "            end\n",
    "            end \n",
    "      \n",
    "   \n",
    "        \n",
    "end\n",
    "return H\n",
    "end\n",
    "\n",
    "function Entropy(Tmax,E)\n",
    "    Z=0\n",
    "    entropy=zeros(Tmax)\n",
    "    for T in 1:Tmax\n",
    " for i in 1:length(E)\n",
    "  Z+=exp((-1)*E[i]/T) # erstellen der Zustandssumme Z\n",
    " end\n",
    "entropy[T] = log(Z) #log(Z) ist der Logarithmus zur Basis e und bestimmt somit die Entropie\n",
    "end\n",
    "return entropy #gibt mir ein Array raus mit den y-Werten\n",
    "end\n"
   ]
  },
  {
   "cell_type": "code",
   "execution_count": 3,
   "metadata": {
    "collapsed": false,
    "deletable": true,
    "editable": true
   },
   "outputs": [
    {
     "data": {
      "text/plain": [
       "16×16 Array{Float64,2}:\n",
       " 0.0  0.0  0.0  0.0  0.0  0.0  0.0  0.0  …  0.0  0.0  0.0  0.0  0.0  0.0  0.0\n",
       " 0.0  1.0  0.0  0.0  0.0  0.0  0.0  0.0     0.0  0.0  0.0  0.0  0.0  0.0  0.0\n",
       " 0.0  0.0  1.0  0.0  0.0  0.0  0.0  0.0     0.0  0.0  0.0  0.0  0.0  0.0  0.0\n",
       " 0.0  0.0  0.0  3.0  0.0  0.0  0.0  0.0     0.0  0.0  0.0  0.0  0.0  0.0  0.0\n",
       " 0.0  0.0  0.0  0.0  1.0  0.0  0.0  0.0     0.0  0.0  0.0  0.0  0.0  0.0  0.0\n",
       " 0.0  0.0  0.0  0.0  0.0  2.0  0.0  0.0  …  0.0  0.0  0.0  0.0  0.0  0.0  0.0\n",
       " 0.0  0.0  0.0  0.0  0.0  0.0  2.0  0.0     0.0  0.0  0.0  0.0  0.0  0.0  0.0\n",
       " 0.0  0.0  0.0  0.0  0.0  0.0  0.0  4.0     0.0  0.0  0.0  0.0  0.0  0.0  0.0\n",
       " 0.0  0.0  0.0  0.0  0.0  0.0  0.0  0.0     0.0  0.0  0.0  0.0  0.0  0.0  0.0\n",
       " 0.0  0.0  0.0  0.0  0.0  0.0  0.0  0.0     2.0  0.0  0.0  0.0  0.0  0.0  0.0\n",
       " 0.0  0.0  0.0  0.0  0.0  0.0  0.0  0.0  …  0.0  2.0  0.0  0.0  0.0  0.0  0.0\n",
       " 0.0  0.0  0.0  0.0  0.0  0.0  0.0  0.0     0.0  0.0  4.0  0.0  0.0  0.0  0.0\n",
       " 0.0  0.0  0.0  0.0  0.0  0.0  0.0  0.0     0.0  0.0  0.0  3.0  0.0  0.0  0.0\n",
       " 0.0  0.0  0.0  0.0  0.0  0.0  0.0  0.0     0.0  0.0  0.0  0.0  4.0  0.0  0.0\n",
       " 0.0  0.0  0.0  0.0  0.0  0.0  0.0  0.0     0.0  0.0  0.0  0.0  0.0  4.0  0.0\n",
       " 0.0  0.0  0.0  0.0  0.0  0.0  0.0  0.0  …  0.0  0.0  0.0  0.0  0.0  0.0  6.0"
      ]
     },
     "execution_count": 3,
     "metadata": {},
     "output_type": "execute_result"
    }
   ],
   "source": [
    "p=Ham(1,1,0,2)"
   ]
  },
  {
   "cell_type": "code",
   "execution_count": 4,
   "metadata": {
    "collapsed": false,
    "deletable": true,
    "editable": true
   },
   "outputs": [],
   "source": [
    "E = eigvals(p)\n",
    "b=Entropy(10,E)\n",
    "a=ones(10)\n",
    "\n",
    "\n",
    "writedlm(\"a\", a)\n",
    "writedlm(\"b\", b)"
   ]
  },
  {
   "cell_type": "code",
   "execution_count": 5,
   "metadata": {
    "collapsed": false,
    "deletable": true,
    "editable": true
   },
   "outputs": [
    {
     "name": "stderr",
     "output_type": "stream",
     "text": [
      "WARNING: Method definition zeros("
     ]
    },
    {
     "data": {
      "text/plain": [
       "1-element Array{Any,1}:\n",
       " PyObject <matplotlib.lines.Line2D object at 0x0000000023A5A828>"
      ]
     },
     "execution_count": 5,
     "metadata": {},
     "output_type": "execute_result"
    },
    {
     "name": "stderr",
     "output_type": "stream",
     "text": [
      "AbstractArray) in module Compat at C:\\Users\\Nicola\\.julia\\v0.5\\Compat\\src\\Compat.jl:1440 overwritten in module Compat at C:\\Users\\Nicola\\.julia\\v0.5\\Compat\\src\\Compat.jl:1440.\n",
      "WARNING: Method definition zeros(AbstractArray, Type) in module Compat at C:\\Users\\Nicola\\.julia\\v0.5\\Compat\\src\\Compat.jl:1440 overwritten in module Compat at C:\\Users\\Nicola\\.julia\\v0.5\\Compat\\src\\Compat.jl:1440.\n",
      "WARNING: Method definition zeros(AbstractArray, Type, Tuple) in module Compat at C:\\Users\\Nicola\\.julia\\v0.5\\Compat\\src\\Compat.jl:1438 overwritten in module Compat at C:\\Users\\Nicola\\.julia\\v0.5\\Compat\\src\\Compat.jl:1438.\n",
      "WARNING: Method definition zeros(AbstractArray, Type, Any...) in module Compat at C:\\Users\\Nicola\\.julia\\v0.5\\Compat\\src\\Compat.jl:1439 overwritten in module Compat at C:\\Users\\Nicola\\.julia\\v0.5\\Compat\\src\\Compat.jl:1439.\n",
      "WARNING: Method definition ones(AbstractArray) in module Compat at C:\\Users\\Nicola\\.julia\\v0.5\\Compat\\src\\Compat.jl:1440 overwritten in module Compat at C:\\Users\\Nicola\\.julia\\v0.5\\Compat\\src\\Compat.jl:1440.\n",
      "WARNING: Method definition ones(AbstractArray, Type) in module Compat at C:\\Users\\Nicola\\.julia\\v0.5\\Compat\\src\\Compat.jl:1440 overwritten in module Compat at C:\\Users\\Nicola\\.julia\\v0.5\\Compat\\src\\Compat.jl:1440.\n",
      "WARNING: Method definition ones(AbstractArray, Type, Tuple) in module Compat at C:\\Users\\Nicola\\.julia\\v0.5\\Compat\\src\\Compat.jl:1438 overwritten in module Compat at C:\\Users\\Nicola\\.julia\\v0.5\\Compat\\src\\Compat.jl:1438.\n",
      "WARNING: Method definition ones(AbstractArray, Type, Any...) in module Compat at C:\\Users\\Nicola\\.julia\\v0.5\\Compat\\src\\Compat.jl:1439 overwritten in module Compat at C:\\Users\\Nicola\\.julia\\v0.5\\Compat\\src\\Compat.jl:1439.\n",
      "WARNING: Method definition convert(Type{Main.Base.Set{#T<:Any}}, Main.Base.Set{#T<:Any}) in module Compat at C:\\Users\\Nicola\\.julia\\v0.5\\Compat\\src\\Compat.jl:1459 overwritten in module Compat at C:\\Users\\Nicola\\.julia\\v0.5\\Compat\\src\\Compat.jl:1459.\n",
      "WARNING: Method definition convert(Type{Main.Base.Set{#T<:Any}}, Main.Base.Set) in module Compat at C:\\Users\\Nicola\\.julia\\v0.5\\Compat\\src\\Compat.jl:1460 overwritten in module Compat at C:\\Users\\Nicola\\.julia\\v0.5\\Compat\\src\\Compat.jl:1460.\n",
      "WARNING: Method definition broadcast(Any, Tuple{Vararg{T<:Any, #N<:Any}}, Tuple{Vararg{T<:Any, #N<:Any}}...) in module Compat at C:\\Users\\Nicola\\.julia\\v0.5\\Compat\\src\\Compat.jl:1122 overwritten in module Compat at C:\\Users\\Nicola\\.julia\\v0.5\\Compat\\src\\Compat.jl:1122.\n",
      "WARNING: Method definition !(Function) in module Compat at C:\\Users\\Nicola\\.julia\\v0.5\\Compat\\src\\Compat.jl:1205 overwritten in module Compat at C:\\Users\\Nicola\\.julia\\v0.5\\Compat\\src\\Compat.jl:1205.\n",
      "WARNING: Method definition redirect_stdout(Function, Any) in module Compat at C:\\Users\\Nicola\\.julia\\v0.5\\Compat\\src\\Compat.jl:1057 overwritten in module Compat at C:\\Users\\Nicola\\.julia\\v0.5\\Compat\\src\\Compat.jl:1057.\n",
      "WARNING: Method definition redirect_stdin(Function, Any) in module Compat at C:\\Users\\Nicola\\.julia\\v0.5\\Compat\\src\\Compat.jl:1057 overwritten in module Compat at C:\\Users\\Nicola\\.julia\\v0.5\\Compat\\src\\Compat.jl:1057.\n",
      "WARNING: Method definition isnull(Any) in module Compat at C:\\Users\\Nicola\\.julia\\v0.5\\Compat\\src\\Compat.jl:1137 overwritten in module Compat at C:\\Users\\Nicola\\.julia\\v0.5\\Compat\\src\\Compat.jl:1137.\n",
      "WARNING: Method definition unsafe_trunc(Type{#T<:Integer}, Integer) in module Compat at C:\\Users\\Nicola\\.julia\\v0.5\\Compat\\src\\Compat.jl:1469 overwritten in module Compat at C:\\Users\\Nicola\\.julia\\v0.5\\Compat\\src\\Compat.jl:1469.\n",
      "WARNING: Method definition bswap(Main.Base.Complex) in module Compat at C:\\Users\\Nicola\\.julia\\v0.5\\Compat\\src\\Compat.jl:1474 overwritten in module Compat at C:\\Users\\Nicola\\.julia\\v0.5\\Compat\\src\\Compat.jl:1474.\n",
      "WARNING: Method definition take!(Task) in module Compat at C:\\Users\\Nicola\\.julia\\v0.5\\Compat\\src\\Compat.jl:53 overwritten in module Compat at C:\\Users\\Nicola\\.julia\\v0.5\\Compat\\src\\Compat.jl:53.\n",
      "WARNING: Method definition take!(Main.Base.AbstractIOBuffer) in module Compat at C:\\Users\\Nicola\\.julia\\v0.5\\Compat\\src\\Compat.jl:1172 overwritten in module Compat at C:\\Users\\Nicola\\.julia\\v0.5\\Compat\\src\\Compat.jl:1172.\n",
      "WARNING: Method definition isassigned(Main.Base.RefValue) in module Compat at C:\\Users\\Nicola\\.julia\\v0.5\\Compat\\src\\Compat.jl:1465 overwritten in module Compat at C:\\Users\\Nicola\\.julia\\v0.5\\Compat\\src\\Compat.jl:1465.\n",
      "WARNING: Method definition redirect_stderr(Function, Any) in module Compat at C:\\Users\\Nicola\\.julia\\v0.5\\Compat\\src\\Compat.jl:1057 overwritten in module Compat at C:\\Users\\Nicola\\.julia\\v0.5\\Compat\\src\\Compat.jl:1057.\n",
      "WARNING: Method definition isless(Union{Main.Base.Dates.Week, Main.Base.Dates.Minute, Main.Base.Dates.Day, Main.Base.Dates.Hour, Main.Base.Dates.Millisecond, Main.Base.Dates.Second}, Union{Main.Base.Dates.Month, Main.Base.Dates.Year}) in module Compat at C:\\Users\\Nicola\\.julia\\v0.5\\Compat\\src\\Compat.jl:1515 overwritten in module Compat at C:\\Users\\Nicola\\.julia\\v0.5\\Compat\\src\\Compat.jl:1515.\n",
      "WARNING: Method definition isless(Union{Main.Base.Dates.Month, Main.Base.Dates.Year}, Union{Main.Base.Dates.Week, Main.Base.Dates.Minute, Main.Base.Dates.Day, Main.Base.Dates.Hour, Main.Base.Dates.Millisecond, Main.Base.Dates.Second}) in module Compat at C:\\Users\\Nicola\\.julia\\v0.5\\Compat\\src\\Compat.jl:1516 overwritten in module Compat at C:\\Users\\Nicola\\.julia\\v0.5\\Compat\\src\\Compat.jl:1516.\n",
      "WARNING: Method definition isless(Main.Base.Dates.Period, Main.Base.Dates.Period) in module Compat at C:\\Users\\Nicola\\.julia\\v0.5\\Compat\\src\\Compat.jl:1510 overwritten in module Compat at C:\\Users\\Nicola\\.julia\\v0.5\\Compat\\src\\Compat.jl:1510.\n",
      "WARNING: Method definition ==(Union{Main.Base.Dates.Week, Main.Base.Dates.Minute, Main.Base.Dates.Day, Main.Base.Dates.Hour, Main.Base.Dates.Millisecond, Main.Base.Dates.Second}, Union{Main.Base.Dates.Month, Main.Base.Dates.Year}) in module Compat at C:\\Users\\Nicola\\.julia\\v0.5\\Compat\\src\\Compat.jl:1513 overwritten in module Compat at C:\\Users\\Nicola\\.julia\\v0.5\\Compat\\src\\Compat.jl:1513.\n",
      "WARNING: Method definition ==(Union{Main.Base.Dates.Month, Main.Base.Dates.Year}, Union{Main.Base.Dates.Week, Main.Base.Dates.Minute, Main.Base.Dates.Day, Main.Base.Dates.Hour, Main.Base.Dates.Millisecond, Main.Base.Dates.Second}) in module Compat at C:\\Users\\Nicola\\.julia\\v0.5\\Compat\\src\\Compat.jl:1514 overwritten in module Compat at C:\\Users\\Nicola\\.julia\\v0.5\\Compat\\src\\Compat.jl:1514.\n",
      "WARNING: Method definition ==(Main.Base.Dates.Period, Main.Base.Dates.Period) in module Compat at C:\\Users\\Nicola\\.julia\\v0.5\\Compat\\src\\Compat.jl:1509 overwritten in module Compat at C:\\Users\\Nicola\\.julia\\v0.5\\Compat\\src\\Compat.jl:1509.\n",
      "WARNING: Method definition (::Type{Main.Base.LinearIndexing})(Type{#T<:Any}) in module Compat at C:\\Users\\Nicola\\.julia\\v0.5\\Compat\\src\\Compat.jl:1430 overwritten in module Compat at C:\\Users\\Nicola\\.julia\\v0.5\\Compat\\src\\Compat.jl:1430.\n",
      "WARNING: Method definition (::Type{Main.Base.LinearIndexing})(Any...) in module Compat at C:\\Users\\Nicola\\.julia\\v0.5\\Compat\\src\\Compat.jl:1431 overwritten in module Compat at C:\\Users\\Nicola\\.julia\\v0.5\\Compat\\src\\Compat.jl:1431.\n"
     ]
    }
   ],
   "source": [
    "a = readdlm(\"a\") #Hier klappt es erneut nicht, a und b zu plotten. Diese Codeausschnitt findet sich in \"Plotten01\" und erfüllt dort seine Aufgabe\n",
    "b = readdlm(\"b\")\n",
    "\n",
    "using PyPlot\n",
    "plot(a,b)"
   ]
  }
 ],
 "metadata": {
  "kernelspec": {
   "display_name": "Julia 0.5.1",
   "language": "julia",
   "name": "julia-0.5"
  },
  "language_info": {
   "file_extension": ".jl",
   "mimetype": "application/julia",
   "name": "julia",
   "version": "0.5.1"
  }
 },
 "nbformat": 4,
 "nbformat_minor": 1
}
