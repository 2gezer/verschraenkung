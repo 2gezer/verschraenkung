{
 "cells": [
  {
   "cell_type": "raw",
   "metadata": {
    "deletable": true,
    "editable": true
   },
   "source": [
    "Im folgenden wird ein Code angegeben, um eine Hamiltonmatrix für ein vorgegebenes Modell eines fermionischen Systems zu ermitteln."
   ]
  },
  {
   "cell_type": "code",
   "execution_count": 6,
   "metadata": {
    "collapsed": false,
    "deletable": true,
    "editable": true
   },
   "outputs": [
    {
     "data": {
      "text/plain": [
       "4×4 Array{Float64,2}:\n",
       " 0.0  0.0  0.0  0.0\n",
       " 0.0  1.0  0.0  0.0\n",
       " 0.0  0.0  1.0  0.0\n",
       " 0.0  0.0  0.0  3.0"
      ]
     },
     "execution_count": 6,
     "metadata": {},
     "output_type": "execute_result"
    }
   ],
   "source": [
    "workspace() #hierdurch werden Warnungen und Fehlermeldungen behoben. wieso genau weiß ich nicht.\n",
    "\n",
    "type state #der Typ state soll einen Zustand beschreiben\n",
    "    j::Int64 #(Binär-)Zahl des Zustands\n",
    "    n::Int64 #Anzahl der Gitterplätze\n",
    "    f::Int64 #Faktor. Ist generell ersteinmal 1. Wird eventuell zu -1 verändert, wenn ein Operator auf den Zustand wirkt.\n",
    "end\n",
    "\n",
    "function getStateArray(zustand::state) #diese Funktion empfängt einen Zustand vom Typ state. Für diesen Zustand ermittelt \n",
    "    a=zeros(Int64, 2*zustand.n) #sie das zugehörige Array mit den Besetzungszahlen\n",
    "    number = zustand.j\n",
    "    counter=1\n",
    "    while number > 0\n",
    "        a[counter]=number%2\n",
    "        number= number%2 == 1 ? Int64(number/2 - 0.5) : number/2\n",
    "        counter=counter+1\n",
    "    end\n",
    "    return a\n",
    "end\n",
    "\n",
    "\n",
    "#Die Funktion CreateSpin wirkt auf ein Objekt vom Typ state so wie der Erzeugeroperator auf einen Zustand.\n",
    "function CreateSpin(i,s,zustand) #i ist der Gitterplatz, s ist der Spin, mit Wert 2 für up und 1 für down\n",
    "   if isa(zustand,Int64) true\n",
    "        b=0\n",
    "    else\n",
    "   number=zustand.j\n",
    "   occupationnumber= getStateArray(zustand)[2i-s+1]\n",
    "   newnumber = number + 2^(2*i-s)\n",
    "    a=0\n",
    "    for j in 1:2i-s\n",
    "            a+= getStateArray(zustand)[j]\n",
    "    end\n",
    "   newfactor = (1-occupationnumber)*zustand.f*(-1)^a\n",
    "   b= newfactor == 0 ? 0:  newstate= state(newnumber,zustand.n,newfactor)\n",
    "    end\n",
    "return b\n",
    "end\n",
    "\n",
    "#Die Funktion AnnihilateSpin wirkt auf ein Objekt vom Typ state so wie der Vernichteroperator auf einen Zustand.\n",
    "function AnnihilateSpin(i,s,zustand) #i ist der Gitterplatz, s ist der Spin, mit Wert 2 für up und 1 für down\n",
    "    if isa(zustand,Int64) true\n",
    "      b=0\n",
    "    else\n",
    "     number=zustand.j\n",
    "     occupationnumber= getStateArray(zustand)[2i-s+1] \n",
    "     a=0\n",
    "      for j in 1:2i-s\n",
    "            a+= getStateArray(zustand)[j]\n",
    "      end\n",
    "     newfactor = occupationnumber*zustand.f*(-1)^a\n",
    "     newnumber = number - 2^(2*i-s)\n",
    "     b= newfactor == 0 ? 0:  newstate= state(newnumber,zustand.n,newfactor)\n",
    "    end\n",
    "   return b\n",
    "end\n",
    "\n",
    "#Wichtig: Die Operatoren wirken, egal in welcher Zusammensetzung untereinander, nur so, dass ein Zustand entweder Null wird oder zu einem anderen Zustand vom Typ state. Wichtig ist, dass zu keinem Zeitpunkt eine Linearkombination aus zwei Zuständen entsteht. Ansonsten funktioniert mein Programm so nicht mehr.\n",
    "#Hier ist die Funktion um eine Hamiltonmatrix zu erstellen, für n Gitterplätze mit Interaktion\n",
    "function Ham(E,U,n) #E ist der Energieterm. U ist das \"Hubbard U\".\n",
    "    H=zeros(4^n,4^n) #leere Hamiltonmatrix der entsprechenden Dimension\n",
    "for j in 0:4^n-1\n",
    "        y=state(j,n,1) #y sind die Zustände, auf die der Hamiltonoperator vorerst wirkt\n",
    "    for i in 1:n \n",
    "        for s in 1:2  #erster Summenterm mit E\n",
    "            x=CreateSpin(i,s,AnnihilateSpin(i,s,y)) #x sind die Zustände, die entstehen, nachdem der erste Teil des Hamiltonoperators auf die Zustände y angewendet wurde\n",
    "            if x==0 \n",
    "                for k in 1:4^n #wenn der gesamte Zustand 0 wird, so ist gesamte i-te Spalte 0. Im Prinizp ist dieser Schritt nicht nötig, da H bereits eine Nullmatrix ist. \n",
    "                H[i,k]=+ 0\n",
    "                end\n",
    "            elseif isa(x,state) true\n",
    "                H[(x.j)+1,(y.j)+1]+= E*x.f#Für jeden neu erzeugten Zustand x findet sich ein Matrixelement H[x,y]mit entsprechendem Element E und Faktor x.f, welche 1 oder -1 sein kann.\n",
    "            end\n",
    "        end\n",
    "            #zweiter Summenterm mit U\n",
    "        x=CreateSpin(i,2,AnnihilateSpin(i,2,CreateSpin(i,1,AnnihilateSpin(i,1,y))))  \n",
    "            if x==0\n",
    "                for k in 1:4^n\n",
    "                H[i,k]+= 0\n",
    "                end\n",
    "            elseif isa(x,state) true\n",
    "                H[(x.j)+1,(y.j)+1]+= U*x.f \n",
    "            end    \n",
    "    end\n",
    "end\n",
    "return H\n",
    "end\n",
    "Ham(1,1,1) #wie wird meine Matrix vollständig ausgegeben? (ohne \"...\"). bei n=8 erscheint OutOfMemoryError(). Wie kann ich das Programm verändern, sodass weniger Speicher verbraucht wird?getStateArray(state(0,2,1))\n"
   ]
  },
  {
   "cell_type": "code",
   "execution_count": null,
   "metadata": {
    "collapsed": false,
    "deletable": true,
    "editable": true
   },
   "outputs": [],
   "source": []
  },
  {
   "cell_type": "code",
   "execution_count": null,
   "metadata": {
    "collapsed": false,
    "deletable": true,
    "editable": true
   },
   "outputs": [],
   "source": []
  }
 ],
 "metadata": {
  "kernelspec": {
   "display_name": "Julia 0.5.1",
   "language": "julia",
   "name": "julia-0.5"
  },
  "language_info": {
   "file_extension": ".jl",
   "mimetype": "application/julia",
   "name": "julia",
   "version": "0.5.1"
  }
 },
 "nbformat": 4,
 "nbformat_minor": 1
}
